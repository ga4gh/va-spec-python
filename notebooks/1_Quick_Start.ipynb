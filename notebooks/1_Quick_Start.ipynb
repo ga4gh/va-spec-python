{
 "cells": [
  {
   "cell_type": "markdown",
   "metadata": {},
   "source": [
    "# Getting Started\n",
    "\n",
    "This notebook gives a simple introduction to VA-Spec Python, which is used to create \n",
    "and validate models defined in the Global Alliance for Genomics and Health (GA4GH) \n",
    "Genomic Knowledge Standards (GKS) Variant Annotation Specification \n",
    "[(VA-Spec)](https://github.com/ga4gh/va-spec).\n",
    "\n",
    "There are three community guidelines that are currently supported:\n",
    "\n",
    "1. Association for Molecular Pathology (AMP), American Society of Clinical Oncology \n",
    "(ASCO), and College of American Pathologists (CAP) 2017\n",
    "1. American College of Medical Genetics and Genomics (ACMG) 2015\n",
    "1. Clinical Genome Resource (ClinGen), Cancer Genomics Consortium (CGC),and Variant\n",
    "Interpretation for Cancer Consortium (VICC) 2022\n",
    "\n",
    "This notebook will show you examples on how to create Pydantic models for each of these\n",
    "guidelines.\n",
    "\n",
    "_Note: Pydantic offers a lot of extra functionality that won't be covered in this\n",
    "notebook. We recommend checking out the \n",
    "[Pydantic documentation](https://docs.pydantic.dev/latest/)._"
   ]
  },
  {
   "cell_type": "markdown",
   "metadata": {},
   "source": [
    "## Core Classes\n",
    "\n",
    "VA-Spec Python has base models ([src/ga4gh/va_spec/base/core.py](../src/ga4gh/va_spec/base/core.py)) that correspond to VA-Spec core classes."
   ]
  },
  {
   "cell_type": "markdown",
   "metadata": {},
   "source": [
    "One example of a core class is `CohortAlleleFrequencyStudyResult`."
   ]
  },
  {
   "cell_type": "markdown",
   "metadata": {},
   "source": [
    "In order to use the model, you must import it:"
   ]
  },
  {
   "cell_type": "code",
   "execution_count": 1,
   "metadata": {},
   "outputs": [],
   "source": [
    "from ga4gh.va_spec.base import CohortAlleleFrequencyStudyResult"
   ]
  },
  {
   "cell_type": "markdown",
   "metadata": {},
   "source": [
    "The simplest and most common ways to create Pydantic model instances are by using\n",
    "dictionary unpacking or directly passing keyword arguments (kwargs)."
   ]
  },
  {
   "cell_type": "markdown",
   "metadata": {},
   "source": [
    "### Creating a Model Using Dictionary Unpacking"
   ]
  },
  {
   "cell_type": "code",
   "execution_count": 2,
   "metadata": {},
   "outputs": [
    {
     "data": {
      "text/plain": [
       "CohortAlleleFrequencyStudyResult(id='gnomad4:1-10120-T-G', type='CohortAlleleFrequencyStudyResult', name='Example Cohort Allele Frequency for 1-10120-T-G', description=None, aliases=None, extensions=None, specifiedBy=None, contributions=None, reportedIn=None, sourceDataSet=DataSet(id='gnomad4.1.0', type='DataSet', name='gnomAD v4.1.0', description=None, aliases=None, extensions=None, subtype=None, reportedIn=None, releaseDate=None, version='4.1.0', license=None), ancillaryResults=None, qualityMeasures=None, focusAllele=iriReference(root='allele.json#/1-10120-T-G'), focusAlleleCount=0, locusAlleleCount=34086, focusAlleleFrequency=0.0, cohort=StudyGroup(id='ALL', type='StudyGroup', name='Overall', description=None, aliases=None, extensions=None, memberCount=None, characteristics=None), subCohortFrequency=None)"
      ]
     },
     "execution_count": 2,
     "metadata": {},
     "output_type": "execute_result"
    }
   ],
   "source": [
    "caf_dict = {\n",
    "    \"id\": \"gnomad4:1-10120-T-G\",\n",
    "    \"type\": \"CohortAlleleFrequencyStudyResult\",\n",
    "    \"name\": \"Example Cohort Allele Frequency for 1-10120-T-G\",\n",
    "    \"sourceDataSet\": {\n",
    "        \"id\": \"gnomad4.1.0\",\n",
    "        \"type\": \"DataSet\",\n",
    "        \"name\": \"gnomAD v4.1.0\",\n",
    "        \"version\": \"4.1.0\"\n",
    "    },\n",
    "    \"focusAllele\": \"allele.json#/1-10120-T-G\",  # Pretend this file exists somewhere\n",
    "    \"focusAlleleCount\": 0,\n",
    "    \"locusAlleleCount\": 34086,\n",
    "    \"focusAlleleFrequency\": 0,\n",
    "    \"cohort\": {\n",
    "        \"id\": \"ALL\",\n",
    "        \"name\": \"Overall\",\n",
    "        \"type\": \"StudyGroup\"\n",
    "    }\n",
    "}\n",
    "caf = CohortAlleleFrequencyStudyResult(**caf_dict)\n",
    "caf"
   ]
  },
  {
   "cell_type": "markdown",
   "metadata": {},
   "source": [
    "### Creating a Model Using keyword arguments"
   ]
  },
  {
   "cell_type": "markdown",
   "metadata": {},
   "source": [
    "For this example, we'll import other models that are used in `CohortAlleleFrequencyStudyResult`."
   ]
  },
  {
   "cell_type": "code",
   "execution_count": 3,
   "metadata": {},
   "outputs": [],
   "source": [
    "from ga4gh.va_spec.base import DataSet, StudyGroup"
   ]
  },
  {
   "cell_type": "code",
   "execution_count": 4,
   "metadata": {},
   "outputs": [
    {
     "data": {
      "text/plain": [
       "CohortAlleleFrequencyStudyResult(id='gnomad4:1-10120-T-G', type='CohortAlleleFrequencyStudyResult', name='Example Cohort Allele Frequency for 1-10120-T-G', description=None, aliases=None, extensions=None, specifiedBy=None, contributions=None, reportedIn=None, sourceDataSet=DataSet(id='gnomad4.1.0', type='DataSet', name='gnomAD v4.1.0', description=None, aliases=None, extensions=None, subtype=None, reportedIn=None, releaseDate=None, version='4.1.0', license=None), ancillaryResults=None, qualityMeasures=None, focusAllele=iriReference(root='allele.json#/1-10120-T-G'), focusAlleleCount=0, locusAlleleCount=34086, focusAlleleFrequency=0.0, cohort=StudyGroup(id='ALL', type='StudyGroup', name='Overall', description=None, aliases=None, extensions=None, memberCount=None, characteristics=None), subCohortFrequency=None)"
      ]
     },
     "execution_count": 4,
     "metadata": {},
     "output_type": "execute_result"
    }
   ],
   "source": [
    "caf = CohortAlleleFrequencyStudyResult(\n",
    "    id=\"gnomad4:1-10120-T-G\",\n",
    "    type=\"CohortAlleleFrequencyStudyResult\",\n",
    "    name=\"Example Cohort Allele Frequency for 1-10120-T-G\",\n",
    "    sourceDataSet=DataSet(\n",
    "        id=\"gnomad4.1.0\",\n",
    "        type=\"DataSet\",\n",
    "        name=\"gnomAD v4.1.0\",\n",
    "        version=\"4.1.0\"\n",
    "    ),\n",
    "    focusAllele= \"allele.json#/1-10120-T-G\",  # Pretend this file exists somewhere\n",
    "    focusAlleleCount=0,\n",
    "    locusAlleleCount=34086,\n",
    "    focusAlleleFrequency=0,\n",
    "    cohort=StudyGroup(\n",
    "        id=\"ALL\",\n",
    "        name=\"Overall\",\n",
    "        type=\"StudyGroup\"\n",
    "    )\n",
    ")\n",
    "caf"
   ]
  },
  {
   "cell_type": "markdown",
   "metadata": {},
   "source": [
    "### Validating a Model"
   ]
  },
  {
   "cell_type": "markdown",
   "metadata": {},
   "source": [
    "The `CohortAlleleFrequencyStudyResult` requires `cohort` and this should be a\n",
    "`StudyGroup`. "
   ]
  },
  {
   "cell_type": "markdown",
   "metadata": {},
   "source": [
    "When we try to create a `CohortAlleleFrequencyStudyResult` object without `cohort`, \n",
    "it will raise a validation error."
   ]
  },
  {
   "cell_type": "code",
   "execution_count": 5,
   "metadata": {},
   "outputs": [
    {
     "name": "stdout",
     "output_type": "stream",
     "text": [
      "1 validation error for CohortAlleleFrequencyStudyResult\n",
      "cohort\n",
      "  Field required [type=missing, input_value={'id': 'gnomad4:1-10120-T...ocusAlleleFrequency': 0}, input_type=dict]\n",
      "    For further information visit https://errors.pydantic.dev/2.10/v/missing\n"
     ]
    }
   ],
   "source": [
    "from pydantic import ValidationError\n",
    "\n",
    "try:\n",
    "    CohortAlleleFrequencyStudyResult(\n",
    "        id=\"gnomad4:1-10120-T-G\",\n",
    "        type=\"CohortAlleleFrequencyStudyResult\",\n",
    "        name=\"Example Cohort Allele Frequency for 1-10120-T-G\",\n",
    "        sourceDataSet=DataSet(\n",
    "            id=\"gnomad4.1.0\",\n",
    "            type=\"DataSet\",\n",
    "            name=\"gnomAD v4.1.0\",\n",
    "            version=\"4.1.0\"\n",
    "        ),\n",
    "        focusAllele= \"allele.json#/1-10120-T-G\",  # Pretend this file exists somewhere\n",
    "        focusAlleleCount=0,\n",
    "        locusAlleleCount=34086,\n",
    "        focusAlleleFrequency=0\n",
    "    )\n",
    "except ValidationError as e:\n",
    "    print(e)"
   ]
  },
  {
   "cell_type": "markdown",
   "metadata": {},
   "source": [
    "When we try to create a `CohortAlleleFrequencyStudyResult` object with `cohort` that is\n",
    "not a `StudyGroup`, it will raise a validation error."
   ]
  },
  {
   "cell_type": "code",
   "execution_count": 6,
   "metadata": {},
   "outputs": [
    {
     "name": "stdout",
     "output_type": "stream",
     "text": [
      "1 validation error for DataSet\n",
      "type\n",
      "  Input should be 'DataSet' [type=literal_error, input_value='StudyGroup', input_type=str]\n",
      "    For further information visit https://errors.pydantic.dev/2.10/v/literal_error\n"
     ]
    }
   ],
   "source": [
    "try:\n",
    "    CohortAlleleFrequencyStudyResult(\n",
    "        id=\"gnomad4:1-10120-T-G\",\n",
    "        type=\"CohortAlleleFrequencyStudyResult\",\n",
    "        name=\"Example Cohort Allele Frequency for 1-10120-T-G\",\n",
    "        sourceDataSet=DataSet(\n",
    "            id=\"gnomad4.1.0\",\n",
    "            type=\"DataSet\",\n",
    "            name=\"gnomAD v4.1.0\",\n",
    "            version=\"4.1.0\"\n",
    "        ),\n",
    "        focusAllele= \"allele.json#/1-10120-T-G\",  # Pretend this file exists somewhere\n",
    "        focusAlleleCount=0,\n",
    "        locusAlleleCount=34086,\n",
    "        focusAlleleFrequency=0,\n",
    "        cohort=DataSet(  # NOT a `StudyGroup`\n",
    "            id=\"ALL\",\n",
    "            name=\"Overall\",\n",
    "            type=\"StudyGroup\"\n",
    "        )\n",
    "    )\n",
    "except ValidationError as e:\n",
    "    print(e)"
   ]
  },
  {
   "cell_type": "markdown",
   "metadata": {},
   "source": [
    "### Converting a Model to a Dictionary\n",
    "\n",
    "Pydantic makes it easy to convert a model back to a dictionary."
   ]
  },
  {
   "cell_type": "code",
   "execution_count": 7,
   "metadata": {},
   "outputs": [
    {
     "data": {
      "text/plain": [
       "{'id': 'gnomad4:1-10120-T-G',\n",
       " 'type': 'CohortAlleleFrequencyStudyResult',\n",
       " 'name': 'Example Cohort Allele Frequency for 1-10120-T-G',\n",
       " 'description': None,\n",
       " 'aliases': None,\n",
       " 'extensions': None,\n",
       " 'specifiedBy': None,\n",
       " 'contributions': None,\n",
       " 'reportedIn': None,\n",
       " 'sourceDataSet': {'id': 'gnomad4.1.0',\n",
       "  'type': 'DataSet',\n",
       "  'name': 'gnomAD v4.1.0',\n",
       "  'description': None,\n",
       "  'aliases': None,\n",
       "  'extensions': None,\n",
       "  'subtype': None,\n",
       "  'reportedIn': None,\n",
       "  'releaseDate': None,\n",
       "  'version': '4.1.0',\n",
       "  'license': None},\n",
       " 'ancillaryResults': None,\n",
       " 'qualityMeasures': None,\n",
       " 'focusAllele': 'allele.json#/1-10120-T-G',\n",
       " 'focusAlleleCount': 0,\n",
       " 'locusAlleleCount': 34086,\n",
       " 'focusAlleleFrequency': 0.0,\n",
       " 'cohort': {'id': 'ALL',\n",
       "  'type': 'StudyGroup',\n",
       "  'name': 'Overall',\n",
       "  'description': None,\n",
       "  'aliases': None,\n",
       "  'extensions': None,\n",
       "  'memberCount': None,\n",
       "  'characteristics': None},\n",
       " 'subCohortFrequency': None}"
      ]
     },
     "execution_count": 7,
     "metadata": {},
     "output_type": "execute_result"
    }
   ],
   "source": [
    "caf.model_dump()"
   ]
  },
  {
   "cell_type": "markdown",
   "metadata": {},
   "source": [
    "Sometimes the output from a model can be large, as we see above. If you don't care about\n",
    "null values, you can exclude them using `model_dump(exclude_none=True)`."
   ]
  },
  {
   "cell_type": "code",
   "execution_count": 8,
   "metadata": {},
   "outputs": [
    {
     "data": {
      "text/plain": [
       "{'id': 'gnomad4:1-10120-T-G',\n",
       " 'type': 'CohortAlleleFrequencyStudyResult',\n",
       " 'name': 'Example Cohort Allele Frequency for 1-10120-T-G',\n",
       " 'sourceDataSet': {'id': 'gnomad4.1.0',\n",
       "  'type': 'DataSet',\n",
       "  'name': 'gnomAD v4.1.0',\n",
       "  'version': '4.1.0'},\n",
       " 'focusAllele': 'allele.json#/1-10120-T-G',\n",
       " 'focusAlleleCount': 0,\n",
       " 'locusAlleleCount': 34086,\n",
       " 'focusAlleleFrequency': 0.0,\n",
       " 'cohort': {'id': 'ALL', 'type': 'StudyGroup', 'name': 'Overall'}}"
      ]
     },
     "execution_count": 8,
     "metadata": {},
     "output_type": "execute_result"
    }
   ],
   "source": [
    "caf.model_dump(exclude_none=True)"
   ]
  },
  {
   "cell_type": "markdown",
   "metadata": {},
   "source": [
    "## AMP/ASCO/CAP 2017"
   ]
  },
  {
   "cell_type": "markdown",
   "metadata": {},
   "source": [
    "## ACMG 2015"
   ]
  },
  {
   "cell_type": "markdown",
   "metadata": {},
   "source": [
    "## CCV 2022"
   ]
  }
 ],
 "metadata": {
  "kernelspec": {
   "display_name": "venv",
   "language": "python",
   "name": "python3"
  },
  "language_info": {
   "codemirror_mode": {
    "name": "ipython",
    "version": 3
   },
   "file_extension": ".py",
   "mimetype": "text/x-python",
   "name": "python",
   "nbconvert_exporter": "python",
   "pygments_lexer": "ipython3",
   "version": "3.12.2"
  }
 },
 "nbformat": 4,
 "nbformat_minor": 2
}
